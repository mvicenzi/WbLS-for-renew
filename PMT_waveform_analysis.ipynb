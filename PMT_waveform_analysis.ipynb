{
 "cells": [
  {
   "cell_type": "markdown",
   "id": "ByEmwgcGKVm4",
   "metadata": {
    "id": "ByEmwgcGKVm4"
   },
   "source": [
    "# PMT Waveform Analysis\n",
    "**ICARUS** is a liquid argon detector currently in operation at Fermilab as part of the Short Baseline Neutrino (SBN) program. It consists of two symmetric modules, acting as large time-projection chambers (TPCs). Each of them houses 180 PMTs that collect scintillation light produced by charged particles crossing the liquid argon volume.\n",
    "\n",
    "![](https://drive.google.com/uc?export=view&id=1-ONPfkpoUPfVOb9JjxTjaw1UOhgaHJad)\n",
    "\n",
    "The photon detection system in ICARUS serves two primary purposes:\n",
    "1.   **Triggering**: It allows to trigger on interesting events by setting a threshold on the amount of collected light.\n",
    "2.   **Timing**: it provides accurate timing information on the event, i.e. the time of the neutrino interaction.\n",
    "\n",
    "This notebook will guide you through a low-level analysis of PMT data taken at the ICARUS experiment. You will be looking at 180 PMT waveforms coming from a specific triggered event (run 9435, event 14386) in one of the ICARUS modules. You will start by looking at a few waveforms, explore a way to tag relevant light activity across all PMTs and extract a rough estimation of the position and time of the event.\n",
    "\n",
    "You may be asked to fill in some Python code along the way, but don't be afraid to ask for help! ;)\n",
    "\n",
    "Let's begin!"
   ]
  },
  {
   "cell_type": "markdown",
   "id": "GKhmICWgcBAa",
   "metadata": {
    "id": "GKhmICWgcBAa"
   },
   "source": [
    "## Step 1: Setting up\n",
    "Python offers a lot of ready-to-use libraries for scientific computing and data analysis. In the following cell, you are going to import some of them which you will need along the way."
   ]
  },
  {
   "cell_type": "code",
   "execution_count": null,
   "id": "a2c9fc91-29f4-4588-af21-57dfe8de9940",
   "metadata": {
    "id": "a2c9fc91-29f4-4588-af21-57dfe8de9940"
   },
   "outputs": [],
   "source": [
    "import numpy as np               # arrays, vectorize math functions\n",
    "import matplotlib.pyplot as plt  # plotting\n",
    "import pandas as pd              # dataframes for storing data\n",
    "\n",
    "!pip install uproot3             # needed to read out .root files\n",
    "import uproot3 as uproot         # uproot3 is deprecated, but I'm old school"
   ]
  },
  {
   "cell_type": "markdown",
   "id": "JiWMnQmVer8t",
   "metadata": {
    "id": "JiWMnQmVer8t"
   },
   "source": [
    "The optical data is stored in a `.root` file. You can easily open files in Google Colab if they are stored in your Google Drive.\n",
    "\n",
    "Do the following:\n",
    "1.   Run the following cell and follow the instructions in the popup dialog to grant access to the Google Drive connected to your account.\n",
    "2.   Go to [this Google Drive folder](https://drive.google.com/drive/folders/14SvWSV2c8bupNo5_yVhbXJ_kzsbUB6m_?usp=drive_link) and copy the data file to your Google Drive.\n",
    "3.   Fill the path to your file in the code. You can also copy the path by esploring the navigation menu on the left side of this page.\n",
    "\n"
   ]
  },
  {
   "cell_type": "code",
   "execution_count": null,
   "id": "9a-zMh3CBYtQ",
   "metadata": {
    "id": "9a-zMh3CBYtQ"
   },
   "outputs": [],
   "source": [
    "from google.colab import drive\n",
    "drive.mount('/content/drive')"
   ]
  },
  {
   "cell_type": "code",
   "execution_count": null,
   "id": "w6Ur6KL_BYGh",
   "metadata": {
    "id": "w6Ur6KL_BYGh"
   },
   "outputs": [],
   "source": [
    "# add the path to the file in your Google Drive\n",
    "# e.g.: \"/content/drive/MyDrive/RENEW_DATA-Week_1/sample_data_icarus/opticalICARUS_run9435_ev14386.root\"\n",
    "\n",
    "file=\"/content/drive/MyDrive/RENEW_DATA-Week_1/sample_data_icarus/opticalICARUS_run9435_ev14386.root\""
   ]
  },
  {
   "cell_type": "markdown",
   "id": "bYVJMeA932WD",
   "metadata": {
    "id": "bYVJMeA932WD"
   },
   "source": [
    "Now we can open the file and read what is inside.\n",
    "We are going to store its contents in a `pandas` dataframe.\n",
    "\n",
    "This is a very powerful tool for data science. You can think of it as an *smart* table (or better, a database) from which you can query what you need by selecting rows or columns satisfying certain conditions.\n",
    "\n",
    "We will try to avoid using its full potential for the sake of code clarity. Apologies to the code purists out there!"
   ]
  },
  {
   "cell_type": "code",
   "execution_count": null,
   "id": "I6T1Y-voBRY-",
   "metadata": {
    "id": "I6T1Y-voBRY-"
   },
   "outputs": [],
   "source": [
    "ttree = uproot.open(file) #opening with uproot\n",
    "data = ttree[\"out_tree\"].arrays(outputtype=pd.DataFrame, flatten=False) #convert into pd.DataFrame\n",
    "\n",
    "# renaming some columns for better understanding\n",
    "data.rename(columns={\"wftstart\":\"t_start_us\", \"wfped_mean\":\"wf_baseline\", \"htstart\":\"h_tstart\", \"htmax\":\"h_tmax\", \"hamp\":\"h_amp\", \"hped\":\"h_ped\"}, inplace=True)"
   ]
  },
  {
   "cell_type": "markdown",
   "id": "fVldBluVBMp7",
   "metadata": {
    "id": "fVldBluVBMp7"
   },
   "source": [
    "Let's take a look at what we have by using the `head()` method, which returns the \"head\" of the table. By default, it shows the first 5 rows."
   ]
  },
  {
   "cell_type": "code",
   "execution_count": null,
   "id": "RcuUERTe5RmA",
   "metadata": {
    "id": "RcuUERTe5RmA"
   },
   "outputs": [],
   "source": [
    "print(\"Total number of columns:\",len(data))\n",
    "data.head()"
   ]
  },
  {
   "cell_type": "markdown",
   "id": "C2qjRdxt9SfC",
   "metadata": {
    "id": "C2qjRdxt9SfC"
   },
   "source": [
    "Let's describe a little bit what we have:\n",
    "\n",
    "*   Each row corresponds to one channel (`ch`). We have 180 PMTs, numbered from `0` to `180`.\n",
    "*   `nsize` is the number of samples of the digitized PMT waveform. A sample is taken every `2 ns`, so each waveform is `12960*2 ns = 25960 ns = 25.960 us` long.\n",
    "*   `t_start_us` is the start time of the first point of the waveform (in `us`).\n",
    "*   `wf_baseline` is the mean baseline value of each waveform (in ADC counts). It's the value of the waveform in the absence of any signals.\n",
    "*   `wf` is a vector containing the digitized values of the waveform (in ADC counts). The length of this vector is precisely `nsize`.\n",
    "\n",
    "The other columns represent the output of a reconstruction algorithm on the waveform. The algorithm tries to look for \"optical hits\", i.e. significant light activity on the waveform.\n",
    "\n",
    "* `nhits` is the number of optical hits found on the waveform.\n",
    "* `h_tstart` is a vector of length `nhits` that contains the start time of each hit. This is not properly a time, but rather the sample number at which the hit starts.\n",
    "* `h_tmax` is a vector of length `nhits` that contains the peak time of each hit. This is not properly a time, but rather the sample number at which the hit peaks.\n",
    "* `h_amp` is a vector of length `nhits` that contains the amplitude (in ADC counts) of each hit.\n",
    "* `h_ped` is a vector of length `nhits` that contains the pedestal of each hit. The baseline of the waveform right at the beginning of each hit."
   ]
  },
  {
   "cell_type": "markdown",
   "id": "34586f71",
   "metadata": {
    "id": "34586f71"
   },
   "source": [
    "## Step 2: Looking at raw waveforms\n",
    "Numbers in a table are boring: let's get them out and plot a few waveforms!\n",
    "\n",
    "You can choose an individual channel, extract the vectors from the dataframe and plot them with `matplotlib`. For a given channel, we need two vectors: time and ADC counts for each point of the sample waveform."
   ]
  },
  {
   "cell_type": "code",
   "execution_count": null,
   "id": "b6NHH8fyh5MC",
   "metadata": {
    "id": "b6NHH8fyh5MC"
   },
   "outputs": [],
   "source": [
    "# select a channel\n",
    "channel = 116"
   ]
  },
  {
   "cell_type": "markdown",
   "id": "MdJuGsEKKT96",
   "metadata": {
    "id": "MdJuGsEKKT96"
   },
   "source": [
    "Let's build a vector of times: we know the start time of the waveform, and then each sample is `2 ns` apart. The total lenght is given by `nsize`."
   ]
  },
  {
   "cell_type": "code",
   "execution_count": null,
   "id": "7IZ6hOCRi3K8",
   "metadata": {
    "id": "7IZ6hOCRi3K8"
   },
   "outputs": [],
   "source": [
    "# get waveform times\n",
    "tstart = data[data.ch==channel].t_start_us.values # selects 't_start_us' value where 'ch' matches our selected channel\n",
    "nsize = data[data.ch==channel].nsize.values # selects 'nsize' value where 'ch' matches our selected channel\n",
    "tend = tstart + nsize*0.002 # time at the end of the waveform\n",
    "\n",
    "t = np.arange(tstart, tend-0.002, 0.002) # build an array, starting at 'tstart' with 2 ns spacing\n",
    "print(t)"
   ]
  },
  {
   "cell_type": "markdown",
   "id": "G4rD6qgflsE9",
   "metadata": {
    "id": "G4rD6qgflsE9"
   },
   "source": [
    "Now we need the vector of values: this is already present in the dataframe, in the column `wf`."
   ]
  },
  {
   "cell_type": "code",
   "execution_count": null,
   "id": "_5q59ix3l3Jq",
   "metadata": {
    "id": "_5q59ix3l3Jq"
   },
   "outputs": [],
   "source": [
    "# get waveform values\n",
    "y = data[data.ch==channel].wf.values[0] # selects 'wf' array where 'ch' matches our selected channel\n",
    "print(y)"
   ]
  },
  {
   "cell_type": "markdown",
   "id": "7viegqERmw30",
   "metadata": {
    "id": "7viegqERmw30"
   },
   "source": [
    "We are now ready to plot. Let's use `matplotlib`!"
   ]
  },
  {
   "cell_type": "code",
   "execution_count": null,
   "id": "PAqnMUSQnaG7",
   "metadata": {
    "id": "PAqnMUSQnaG7"
   },
   "outputs": [],
   "source": [
    "# lets define a figure object with a nice size\n",
    "fig = plt.figure(figsize=(14, 5))\n",
    "\n",
    "# plot y vs t\n",
    "plt.plot( t, y, label=\"PMT ch \"+str(channel))\n",
    "\n",
    "# always label your axis\n",
    "plt.ylabel(\"Amplitude [ADC #]\")\n",
    "plt.xlabel(\"Time [us]\")\n",
    "plt.legend() # add a legend\n",
    "plt.grid() # add a grid\n",
    "plt.show() # show it"
   ]
  },
  {
   "cell_type": "markdown",
   "id": "G6XdmxFUprg_",
   "metadata": {
    "id": "G6XdmxFUprg_"
   },
   "source": [
    "We finally see the waveform. As expected, the light pulses are negative and their amplitude can be hundreds of ADC counts.\n",
    "\n",
    "It is also intersting to zoom around the main activity. To do so, you can use `plt.xlim((start,end))` to limit the range of the `x` axis."
   ]
  },
  {
   "cell_type": "markdown",
   "id": "zC237nkNrziv",
   "metadata": {
    "id": "zC237nkNrziv"
   },
   "source": [
    "### Exercise 1\n",
    "Write a python function that plots a waveform taking as argument the PMT channel and the limits for the `x` axis. If no time limits are specified, show by default the entire waveform."
   ]
  },
  {
   "cell_type": "code",
   "execution_count": null,
   "id": "c0ef07fa-700c-4644-b9d0-7818846856d4",
   "metadata": {
    "id": "c0ef07fa-700c-4644-b9d0-7818846856d4"
   },
   "outputs": [],
   "source": [
    "def plot_waveform(data, channel, tmin=-1, tmax=-1):\n",
    "\n",
    "    fig = plt.figure(figsize=(14, 5))\n",
    "\n",
    "    # get waveform times\n",
    "    # *** FILL HERE ***\n",
    "\n",
    "    #get waveform data\n",
    "    # *** FILL HERE ***\n",
    "\n",
    "    # now plot\n",
    "    # *** FILL HERE ***\n",
    "\n",
    "    # let's also plot an horizontal line corresponding to the baseline level\n",
    "    # we need to read it off from the dataframe\n",
    "    baseline = # *** FILL HERE ***\n",
    "    plt.axhline(y=baseline, color=\"red\", linestyle=\"dotted\")\n",
    "\n",
    "    # here we also plot the beam \"gate\": the time in which we now\n",
    "    # the beam impacted on the target and therefore neutrinos are expected\n",
    "    trig_gate_diff = 1552 #ns\n",
    "    beam_gate_width = 2200 #ns\n",
    "    start_gate = 1500-(trig_gate_diff/1000.) #us\n",
    "    end_gate = start_gate+beam_gate_width/1000. #us\n",
    "    plt.axvline(x=start_gate,color=\"magenta\",linestyle=\"dashed\",lw=2,label=\"Start beam gate\")\n",
    "    plt.axvline(x=end_gate,color=\"orange\",linestyle=\"dashed\",lw=2,label=\"End beam gate\")\n",
    "\n",
    "    # deal with x-limits\n",
    "    if tmin != -1 and tmax != -1:\n",
    "        plt.xlim((tmin,tmax))\n",
    "\n",
    "    plt.ylabel(\"Amplitude [ADC #]\")\n",
    "    plt.xlabel(\"Time [us]\")\n",
    "    plt.legend()\n",
    "    plt.grid()\n",
    "    plt.show()"
   ]
  },
  {
   "cell_type": "markdown",
   "id": "wL1VjPRDxTVl",
   "metadata": {
    "id": "wL1VjPRDxTVl"
   },
   "source": [
    "Now test your function!\n",
    "\n",
    "Try to look at different channels (e.g.: `4`, `53`, `66`, `122`, `158`). What do you see?\n",
    "\n"
   ]
  },
  {
   "cell_type": "code",
   "execution_count": null,
   "id": "34365f2e",
   "metadata": {
    "id": "34365f2e"
   },
   "outputs": [],
   "source": [
    "channel=158\n",
    "tmin = 1496\n",
    "tmax = 1503\n",
    "\n",
    "plot_waveform(data, channel, tmin, tmax)"
   ]
  },
  {
   "cell_type": "markdown",
   "id": "2e69623c",
   "metadata": {
    "id": "2e69623c"
   },
   "source": [
    "## Step 3: Looking at optical hits\n",
    "Raw waveforms are cool, but we need to extract information out of them to go further. The next step is then to identify significant peaks in the waveform and extract their time.\n",
    "\n",
    "We call these negative peaks *optical hits*. As you have seen zooming on some waveforms, there can be complex structures. A scintillation event is in fact characterized by a prompt signal (which makes a big peak) followed by late photons distributed in time.\n",
    "\n",
    "Let's find a way to select these negative peaks and save their time. First let's look at the following algorithm that looks for negative peaks:"
   ]
  },
  {
   "cell_type": "code",
   "execution_count": null,
   "id": "L6cSNLJF5Zjf",
   "metadata": {
    "id": "L6cSNLJF5Zjf"
   },
   "outputs": [],
   "source": [
    "# inputs: our waveform (times, values, baseline) and a threshold\n",
    "def find_negative_peaks(times, values, baseline, threshold):\n",
    "    peak_times = []\n",
    "    peak_values = []\n",
    "    for i in range(1, len(values) - 1): # loops through each value\n",
    "\n",
    "        # negative peak: lower than both its preceding and succeeding values\n",
    "        # check if the value is above the given threshold (with respect to the baseline!)\n",
    "        if values[i] < values[i - 1] and values[i] < values[i + 1] and (baseline-values[i]) > threshold:\n",
    "            peak_times.append(times[i])\n",
    "            peak_values.append(values[i])\n",
    "    return peak_times, peak_values # results are saved in two arrays"
   ]
  },
  {
   "cell_type": "markdown",
   "id": "_B0nK8jT_bmh",
   "metadata": {
    "id": "_B0nK8jT_bmh"
   },
   "source": [
    "You can test this simple function on a waveform:"
   ]
  },
  {
   "cell_type": "code",
   "execution_count": null,
   "id": "TTyEadOF_bQS",
   "metadata": {
    "id": "TTyEadOF_bQS"
   },
   "outputs": [],
   "source": [
    "# get a waveform (you are experts now!)\n",
    "channel = 116\n",
    "tstart = data[data.ch==channel].t_start_us.values\n",
    "tend = tstart + nsize*0.002\n",
    "t = np.arange(tstart, tend-0.002, 0.002)\n",
    "y = data[data.ch==channel].wf.values[0]\n",
    "baseline = data[data.ch==channel].wf_baseline.values"
   ]
  },
  {
   "cell_type": "code",
   "execution_count": null,
   "id": "0lDKL2Kc5c_f",
   "metadata": {
    "id": "0lDKL2Kc5c_f"
   },
   "outputs": [],
   "source": [
    "# choose a threshold\n",
    "threshold = 40\n",
    "peak_times, peak_values = find_negative_peaks(t,y,baseline,threshold)\n",
    "\n",
    "print(\"Found \"+str(len(peak_times))+\" hits\")\n",
    "print(peak_times)\n",
    "print(peak_values)"
   ]
  },
  {
   "cell_type": "markdown",
   "id": "ZTwBqcEJALEn",
   "metadata": {
    "id": "ZTwBqcEJALEn"
   },
   "source": [
    "Plot them to see how they look:"
   ]
  },
  {
   "cell_type": "code",
   "execution_count": null,
   "id": "9f70addd",
   "metadata": {
    "id": "9f70addd"
   },
   "outputs": [],
   "source": [
    "# lets define a figure object with a nice size\n",
    "fig = plt.figure(figsize=(14, 5))\n",
    "\n",
    "# plot y vs t\n",
    "plt.plot( t, y, label=\"PMT ch \"+str(channel))\n",
    "\n",
    "#plot hits\n",
    "plt.scatter( peak_times, peak_values, color=\"red\", marker=\"o\", label=\"Optical hits\")\n",
    "\n",
    "# always label your axis\n",
    "plt.ylabel(\"Amplitude [ADC #]\")\n",
    "plt.xlabel(\"Time [us]\")\n",
    "\n",
    "tmin = 1499\n",
    "tmax = 1503\n",
    "plt.xlim((tmin,tmax))\n",
    "\n",
    "plt.legend() # add a legend\n",
    "plt.grid() # add a grid\n",
    "plt.show() # show it"
   ]
  },
  {
   "cell_type": "markdown",
   "id": "QryrPXdYBpO3",
   "metadata": {
    "id": "QryrPXdYBpO3"
   },
   "source": [
    "It seems to be working okay! However, the prompt peak is being splitted into may sub-hits, while it would make more sense to consider everything together as one hit.\n",
    "\n",
    "Let's try comparing these hits with the ones already written in the file. Similarly as before, we need to read them off the dataframe."
   ]
  },
  {
   "cell_type": "code",
   "execution_count": null,
   "id": "efHxDny_Cg58",
   "metadata": {
    "id": "efHxDny_Cg58"
   },
   "outputs": [],
   "source": [
    "t_hits = tstart + data[data.ch==channel].h_tmax.values[0]*0.002 # waveform start time + sample * 0.002 us\n",
    "v_hits = data[data.ch==channel].h_ped.values[0] - data[data.ch==channel].h_amp.values[0] # baseline - hit amplitude = hit value\n",
    "\n",
    "print(t_hits)\n",
    "print(v_hits)"
   ]
  },
  {
   "cell_type": "markdown",
   "id": "7JhtlO6BD83c",
   "metadata": {
    "id": "7JhtlO6BD83c"
   },
   "source": [
    "Let's plot it!"
   ]
  },
  {
   "cell_type": "code",
   "execution_count": null,
   "id": "CgeIuxRBDiw6",
   "metadata": {
    "id": "CgeIuxRBDiw6"
   },
   "outputs": [],
   "source": [
    "# lets define a figure object with a nice size\n",
    "fig = plt.figure(figsize=(14, 5))\n",
    "\n",
    "# plot y vs t\n",
    "plt.plot( t, y, label=\"PMT ch \"+str(channel))\n",
    "\n",
    "#plot hits\n",
    "plt.scatter( peak_times, peak_values, color=\"red\", marker=\"o\", label=\"Optical hits (simple function)\")\n",
    "plt.scatter( t_hits, v_hits, color=\"purple\", marker=\">\", label=\"Optical hits (from file)\")\n",
    "\n",
    "# always label your axis\n",
    "plt.ylabel(\"Amplitude [ADC #]\")\n",
    "plt.xlabel(\"Time [us]\")\n",
    "\n",
    "tmin = 1499\n",
    "tmax = 1503\n",
    "plt.xlim((tmin,tmax))\n",
    "\n",
    "plt.legend() # add a legend\n",
    "plt.grid() # add a grid\n",
    "plt.show() # show it"
   ]
  },
  {
   "cell_type": "markdown",
   "id": "M-A7S2ZqE8C1",
   "metadata": {
    "id": "M-A7S2ZqE8C1"
   },
   "source": [
    "### Exercise 2\n",
    "Write a Python function that plots the reconstructed optical hits on a waveform taking as argument the PMT channel and the limits for the x axis. If no time limits are specified, show by default the entire waveform."
   ]
  },
  {
   "cell_type": "code",
   "execution_count": null,
   "id": "tae09TbTE7vj",
   "metadata": {
    "id": "tae09TbTE7vj"
   },
   "outputs": [],
   "source": [
    "def plot_optical_hits(data, channel, tmin, tmax):\n",
    "  fig = plt.figure(figsize=(14, 5))\n",
    "\n",
    "  # get waveform times\n",
    "  # *** FILL HERE ***\n",
    "\n",
    "  # get waveform data\n",
    "  # *** FILL HERE ***\n",
    "\n",
    "  # get hits (times & values)\n",
    "  # *** FILL HERE ***\n",
    "\n",
    "  # now plot\n",
    "  # *** FILL HERE ***\n",
    "\n",
    "  # deal with x-limits\n",
    "  if tmin != -1 and tmax != -1:\n",
    "    plt.xlim((tmin,tmax))\n",
    "\n",
    "  plt.ylabel(\"Amplitude [ADC #]\")\n",
    "  plt.xlabel(\"Time [us]\")\n",
    "  plt.legend()\n",
    "  plt.grid()\n",
    "  plt.show()"
   ]
  },
  {
   "cell_type": "markdown",
   "id": "OMKAraNNPHup",
   "metadata": {
    "id": "OMKAraNNPHup"
   },
   "source": [
    "Now test your function on different channels:"
   ]
  },
  {
   "cell_type": "code",
   "execution_count": null,
   "id": "SZivw8-kPGey",
   "metadata": {
    "id": "SZivw8-kPGey"
   },
   "outputs": [],
   "source": [
    "channel=158\n",
    "tmin = 1496\n",
    "tmax = 1503\n",
    "\n",
    "plot_optical_hits(data, channel, tmin, tmax)"
   ]
  },
  {
   "cell_type": "markdown",
   "id": "7bb2e13b",
   "metadata": {
    "id": "7bb2e13b"
   },
   "source": [
    "## Step 4: Looking at optical flashes\n",
    "Up until now you have been looking at one single PMT each time. However, neutrino events are expected to produce light activity in coincidence among many PMTs. Such collections of optical hits are called *flashes*.\n",
    "\n",
    "Optical flashes are the true signature of interesting events. The goal is now to look to optical hits across all PMTs to find flashes. One way to do so visually is to make a scatter plot of every optical hits, using time in the x-axis and the PMT channel ID in the y-axis.\n",
    "\n",
    "Let's try to make this plot!"
   ]
  },
  {
   "cell_type": "code",
   "execution_count": null,
   "id": "65cb9904",
   "metadata": {
    "id": "65cb9904"
   },
   "outputs": [],
   "source": [
    "# there is a quick way to do this exploting pandas dataframes\n",
    "# but let's fly low and make it simpler\n",
    "\n",
    "# for each optical hit, we are going to add an entry to these arrays:\n",
    "ch = [] # empty array for channel ID\n",
    "tt = [] # empty array for ophit time\n",
    "\n",
    "for channel in range(0,180): #loop through all channels\n",
    "\n",
    "  #get opthit times\n",
    "  tstart = data[data.ch==channel].t_start_us.values\n",
    "  t_hits = tstart + data[data.ch==channel].h_tmax.values[0]*0.002\n",
    "  # now t_hits is an array, but we want single hits\n",
    "  for i in range(len(t_hits)):\n",
    "    ch.append(channel)\n",
    "    tt.append(t_hits[i])"
   ]
  },
  {
   "cell_type": "code",
   "execution_count": null,
   "id": "goxNluhstDmy",
   "metadata": {
    "id": "goxNluhstDmy"
   },
   "outputs": [],
   "source": [
    "print(ch)\n",
    "print(tt)"
   ]
  },
  {
   "cell_type": "markdown",
   "id": "jt6uFuzOqyZg",
   "metadata": {
    "id": "jt6uFuzOqyZg"
   },
   "source": [
    "Now we can make the scatter plot:"
   ]
  },
  {
   "cell_type": "code",
   "execution_count": null,
   "id": "bc81cea8",
   "metadata": {
    "id": "bc81cea8"
   },
   "outputs": [],
   "source": [
    "# lets define a figure object with a nice size\n",
    "fig = plt.figure(figsize=(14, 5))\n",
    "\n",
    "# plot channel_id vs time of each optical hit\n",
    "plt.scatter(tt, ch, marker=\".\")\n",
    "\n",
    "# lets add the beam time references\n",
    "trig_gate_diff = 1552 #ns\n",
    "beam_gate_width = 2200 #ns\n",
    "start_gate = 1500-(trig_gate_diff/1000.) #us\n",
    "end_gate = start_gate+beam_gate_width/1000. #us\n",
    "plt.axvline(x=start_gate,color=\"magenta\",linestyle=\"dashed\",lw=2,label=\"Start beam gate\")\n",
    "plt.axvline(x=end_gate,color=\"orange\",linestyle=\"dashed\",lw=2,label=\"End beam gate\")\n",
    "\n",
    "# always label your axis\n",
    "plt.title(\"OpHits in each channel vs time\")\n",
    "plt.xlabel(\"Time [us]\")\n",
    "plt.ylabel(\"PMT channel ID\")\n",
    "\n",
    "plt.legend() # add a legend\n",
    "plt.grid() # add a grid\n",
    "plt.show() # show it"
   ]
  },
  {
   "cell_type": "markdown",
   "id": "zIGizFXYudwE",
   "metadata": {
    "id": "zIGizFXYudwE"
   },
   "source": [
    "Optical flashes are given by having multiple optical hits from different PMTs at the same time. In the plot you just made, they will therefore appear as **vertical lines** (different PMT IDs at the same time).\n",
    "\n",
    "To better see how many flashes are present, you can set a threshold on the optical hits. This will be the goal of the exercise below."
   ]
  },
  {
   "cell_type": "markdown",
   "id": "4b9768ab",
   "metadata": {
    "id": "4b9768ab"
   },
   "source": [
    "### Exercise 3\n",
    "Write a function to produce the scatter plot above selecting only the optical hits that are above a given threshold. Allow also the possibility to set limits for the x-axis. If no time limits are specified, show by default the entire range.\n",
    "\n",
    "After that, test your function with different thresholds (note: ICARUS trigger threshold is 390 ADC counts):\n",
    "1.   How many flashes do you see in data?\n",
    "2.   Which flashes are likely to be neutrinos?"
   ]
  },
  {
   "cell_type": "code",
   "execution_count": null,
   "id": "ba232ab5",
   "metadata": {
    "id": "ba232ab5"
   },
   "outputs": [],
   "source": [
    "def plot_optical_flashes(data, threshold, tmin, tmax):\n",
    "\n",
    "  # empty arrays\n",
    "  ch = []\n",
    "  tt = []\n",
    "\n",
    "  for channel in range(0,180): #loop through all channels\n",
    "\n",
    "    # get ophit times\n",
    "    # *** FILL HERE ***\n",
    "\n",
    "    # get ophit amplitudes\n",
    "    amp_hits = # *** FILL HERE ***\n",
    "\n",
    "    for i in range(len(t_hits)):\n",
    "      #check if amplitude above threshold\n",
    "      if amp_hits[i] > threshold:\n",
    "        ch.append(channel)\n",
    "        tt.append(t_hits[i])\n",
    "\n",
    "  # now let's plot\n",
    "  fig = plt.figure(figsize=(14, 5))\n",
    "\n",
    "  # plot channel_id vs time of each optical hit\n",
    "  plt.scatter(tt, ch, marker=\".\")\n",
    "\n",
    "  # deal with x-limits\n",
    "  # *** FILL HERE ***\n",
    "\n",
    "  # lets add the beam time references\n",
    "  trig_gate_diff = 1552 #ns\n",
    "  beam_gate_width = 2200 #ns\n",
    "  start_gate = 1500-(trig_gate_diff/1000.) #us\n",
    "  end_gate = start_gate+beam_gate_width/1000. #us\n",
    "  plt.axvline(x=start_gate,color=\"magenta\",linestyle=\"dashed\",lw=2,label=\"Start beam gate\")\n",
    "  plt.axvline(x=end_gate,color=\"orange\",linestyle=\"dashed\",lw=2,label=\"End beam gate\")\n",
    "\n",
    "  # always label your axis\n",
    "  plt.title(\"OpHits w/ threshold \"+str(threshold)+\" in each channel vs time\")\n",
    "  plt.xlabel(\"Time [us]\")\n",
    "  plt.ylabel(\"PMT channel ID\")\n",
    "\n",
    "  plt.legend() # add a legend\n",
    "  plt.grid() # add a grid\n",
    "  plt.show() # show it"
   ]
  },
  {
   "cell_type": "markdown",
   "id": "z8x2KQ_Wy_g8",
   "metadata": {
    "id": "z8x2KQ_Wy_g8"
   },
   "source": [
    "Now test your function and play around with different thresholds:"
   ]
  },
  {
   "cell_type": "code",
   "execution_count": null,
   "id": "139a266d",
   "metadata": {
    "id": "139a266d"
   },
   "outputs": [],
   "source": [
    "threshold = 100\n",
    "tmin = 1495\n",
    "tmax = 1510\n",
    "\n",
    "plot_optical_flashes(data, threshold, tmin, tmax)"
   ]
  },
  {
   "cell_type": "markdown",
   "id": "45197f92",
   "metadata": {
    "id": "45197f92"
   },
   "source": [
    "## Step 5: Event display\n",
    "Great! We now have our flashes!\n",
    "\n",
    "What happens next? Since ICARUS is a TPC, you would need to look at the images collected with the wires to see if you can spot interaction vertexes around the time of the flashes.\n",
    "\n",
    "To match with the TPC, it is important to understand *where* the flash happened spatially inside the module. As you have seen from the previous plots, a flash is not a continuos vertical line: this is because PMTs see different regions of the detector depending on where they are placed.\n",
    "\n",
    "Let's then try to draw the detector and highlight the PMTs related to one flash so we can see where it happened! In order to do so, we must first import a table that contains the `(x,y,z)` position for each PMT."
   ]
  },
  {
   "cell_type": "code",
   "execution_count": null,
   "id": "3078433a",
   "metadata": {
    "id": "3078433a"
   },
   "outputs": [],
   "source": [
    "# loading up geometry\n",
    "geofile=\"/content/drive/MyDrive/RENEW_DATA-Week_1/sample_data_icarus/geofile.csv\"\n",
    "geo = pd.read_csv(geofile)\n",
    "\n",
    "# display\n",
    "geo.head()"
   ]
  },
  {
   "cell_type": "markdown",
   "id": "wfY88ltrQAcD",
   "metadata": {
    "id": "wfY88ltrQAcD"
   },
   "source": [
    "Let's create three arrays storing PMT coordinates:"
   ]
  },
  {
   "cell_type": "code",
   "execution_count": null,
   "id": "me9N-OvPi3T_",
   "metadata": {
    "id": "me9N-OvPi3T_"
   },
   "outputs": [],
   "source": [
    "xpmt = geo[geo.x<0].x.values\n",
    "ypmt = geo[geo.x<0].y.values\n",
    "zpmt = geo[geo.x<0].z.values"
   ]
  },
  {
   "cell_type": "markdown",
   "id": "J31lFqq9liea",
   "metadata": {
    "id": "J31lFqq9liea"
   },
   "source": [
    "We can start setting up the 3D display. First, we draw the module and all PMTs in their actual positions."
   ]
  },
  {
   "cell_type": "code",
   "execution_count": null,
   "id": "IFV-kzOnleVn",
   "metadata": {
    "id": "IFV-kzOnleVn"
   },
   "outputs": [],
   "source": [
    "# prepare a 3D canvas\n",
    "fig = plt.figure(figsize=(18, 10))\n",
    "ax = fig.add_subplot(projection='3d')\n",
    "\n",
    "# plot all PMTs\n",
    "ax.scatter( zpmt, xpmt, ypmt, c='black', s=50, alpha=0.2  )\n",
    "\n",
    "# make proportions better\n",
    "ax.set_box_aspect(aspect = (10, 4, 2))\n",
    "\n",
    "# label things\n",
    "ax.set_ylabel(\"X (drift direction) [cm]\", fontsize=12)\n",
    "ax.set_xlabel(\"Z (beam direction) [cm]\",fontsize=12)\n",
    "ax.set_zlabel(\"Y (vertical direction) [cm]\", fontsize=12)\n",
    "\n",
    "fig.tight_layout()"
   ]
  },
  {
   "cell_type": "markdown",
   "id": "fGEuCR5GCZrx",
   "metadata": {
    "id": "fGEuCR5GCZrx"
   },
   "source": [
    "We would like to highlight the PMTs involved in a flash. We can assign them a color and a size based on the amount of light they saw.\n",
    "\n",
    "First, we need to select the PMTs and the hits involved in a flash. We can do so by looking at the previous plots and selecting only hits around the flash time."
   ]
  },
  {
   "cell_type": "code",
   "execution_count": null,
   "id": "18f29731",
   "metadata": {
    "id": "18f29731"
   },
   "outputs": [],
   "source": [
    "# go for the first flash\n",
    "tmin = 1499.20 # approximately from zooming on the plots\n",
    "tmax = 1499.45\n",
    "\n",
    "ch_flash = []\n",
    "amp_flash = []\n",
    "\n",
    "for channel in range(0,180): #loop through all channels\n",
    "\n",
    "  #get opthit times\n",
    "  tstart = data[data.ch==channel].t_start_us.values\n",
    "  t_hits = tstart + data[data.ch==channel].h_tmax.values[0]*0.002\n",
    "  a_hits = data[data.ch==channel].h_amp.values[0]\n",
    "\n",
    "  tt = [] # times of hits in flash\n",
    "  aa = [] # amplitudes of hits in flash\n",
    "\n",
    "  for i in range(len(t_hits)):\n",
    "\n",
    "    if ( t_hits[i] < tmin or t_hits[i] > tmax): # skip if outside flash\n",
    "      continue\n",
    "    if ( a_hits[i] < 50): #skip if too low threshold\n",
    "      continue\n",
    "\n",
    "    aa.append(a_hits[i])\n",
    "    tt.append(t_hits[i])\n",
    "\n",
    "  if( len(tt) > 0): # if at least one hit passed the time selection\n",
    "    ch_flash.append(channel) # this PMT saw the flash\n",
    "    amp_flash.append(sum(aa)) # use sum of amplitude as (bad & rough) proxy for how much light it saw"
   ]
  },
  {
   "cell_type": "code",
   "execution_count": null,
   "id": "FEm3l335pEEd",
   "metadata": {
    "id": "FEm3l335pEEd"
   },
   "outputs": [],
   "source": [
    "print(ch_flash)\n",
    "print(amp_flash)"
   ]
  },
  {
   "cell_type": "markdown",
   "id": "dJUYMFMPptAL",
   "metadata": {
    "id": "dJUYMFMPptAL"
   },
   "source": [
    "From the channel ID, we now need coordinates"
   ]
  },
  {
   "cell_type": "code",
   "execution_count": null,
   "id": "qY_mMhebpxmX",
   "metadata": {
    "id": "qY_mMhebpxmX"
   },
   "outputs": [],
   "source": [
    "xpmt_flash = [ xpmt[i] for i in ch_flash ]\n",
    "ypmt_flash = [ ypmt[i] for i in ch_flash ]\n",
    "zpmt_flash = [ zpmt[i] for i in ch_flash ]"
   ]
  },
  {
   "cell_type": "markdown",
   "id": "64c8e266",
   "metadata": {
    "id": "64c8e266"
   },
   "source": [
    "Now we can add them to the 3D plot!"
   ]
  },
  {
   "cell_type": "code",
   "execution_count": null,
   "id": "34a0ba92",
   "metadata": {
    "id": "34a0ba92"
   },
   "outputs": [],
   "source": [
    "# prepare a 3D canvas\n",
    "fig = plt.figure(figsize=(18, 10))\n",
    "ax = fig.add_subplot(projection='3d')\n",
    "\n",
    "# plot all PMTs\n",
    "ax.scatter( zpmt, xpmt, ypmt, c='black', s=50, alpha=0.2  )\n",
    "\n",
    "# plt PMTs in flash\n",
    "ax.scatter ( zpmt_flash, xpmt_flash, ypmt_flash, s=np.array(amp_flash)*0.2, c=amp_flash, cmap='YlOrRd' )\n",
    "\n",
    "# make proportions better\n",
    "ax.set_box_aspect(aspect = (10, 4, 2))\n",
    "\n",
    "# label things\n",
    "ax.set_ylabel(\"X (drift direction) [cm]\", fontsize=12)\n",
    "ax.set_xlabel(\"Z (beam direction) [cm]\",fontsize=12)\n",
    "ax.set_zlabel(\"Y (vertical direction) [cm]\", fontsize=12)\n",
    "\n",
    "fig.tight_layout()"
   ]
  },
  {
   "cell_type": "markdown",
   "id": "DuioDNb6u8Oq",
   "metadata": {
    "id": "DuioDNb6u8Oq"
   },
   "source": [
    "As you can see from the event display, the interaction related to this flash happened around `z = -250`, close to one of the walls as the PMTs in that region saw higher pulses. It is important to note that the amplitude of the pulse is not a good estimate for the total amount of light collected, as it does not consider the late photons in the tail. Similar displays are therefore made considering the integral of each pulse, which corresponds to the total charge collected by that PMT.\n",
    "\n",
    "Try to repeat the same procedure for the other flashes you identified in Exercise 3. What do you see?"
   ]
  }
 ],
 "metadata": {
  "colab": {
   "provenance": []
  },
  "kernelspec": {
   "display_name": "Python 3 (ipykernel)",
   "language": "python",
   "name": "python3"
  },
  "language_info": {
   "codemirror_mode": {
    "name": "ipython",
    "version": 3
   },
   "file_extension": ".py",
   "mimetype": "text/x-python",
   "name": "python",
   "nbconvert_exporter": "python",
   "pygments_lexer": "ipython3",
   "version": "3.11.3"
  }
 },
 "nbformat": 4,
 "nbformat_minor": 5
}
